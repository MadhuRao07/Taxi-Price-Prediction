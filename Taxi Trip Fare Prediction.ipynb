{
 "cells": [
  {
   "cell_type": "markdown",
   "id": "28e96d14",
   "metadata": {},
   "source": [
    "This hackathon will try to address the challenges faced by taxi operators in quoting the right fare to customers before starting the trip. However, the details are shared with taxi drivers or operators related to the trip, they find it difficult to quote the right fare because of uncertainties and calculation complexities. \n",
    "\n",
    "The same issue is faced by passengers as well because of inaccurate or irrelevant fares quoted. To find a solution for this, this hackathon provides a historical dataset to participants that includes records of taxi trip details and fares of those trips. \n",
    "\n",
    "**Using this dataset, the participants need to build machine learning models for predicting the trip fare based on the given other useful features of the trip.**\n",
    "\n",
    "* Distance\n",
    "* Time of Travel\n",
    "* Duration of Travel\n",
    "* Tolls\n",
    "* Location\n",
    "* Type of Car\n",
    "* Price\n",
    "* Day or Night\n",
    "* Demand and Supply\n",
    "* Rating of the Driver\n",
    "* Payment Type - may or may not work..\n",
    "* Working Day or Weekend\n",
    "* Cab Sharing/Pooled Car\n",
    "* Tip shall have an impact...\n"
   ]
  },
  {
   "cell_type": "code",
   "execution_count": 22,
   "id": "384eb137",
   "metadata": {},
   "outputs": [],
   "source": [
    "# Import the Libraries and the Data\n",
    "\n",
    "import numpy as np\n",
    "import pandas as pd\n",
    "import matplotlib.pyplot as plt\n",
    "import seaborn as sns\n",
    "\n",
    "import warnings\n",
    "warnings.filterwarnings(\"ignore\")"
   ]
  },
  {
   "cell_type": "code",
   "execution_count": 23,
   "id": "aa522423",
   "metadata": {},
   "outputs": [
    {
     "ename": "FileNotFoundError",
     "evalue": "[Errno 2] No such file or directory: 'train.csv'",
     "output_type": "error",
     "traceback": [
      "\u001b[1;31m---------------------------------------------------------------------------\u001b[0m",
      "\u001b[1;31mFileNotFoundError\u001b[0m                         Traceback (most recent call last)",
      "Cell \u001b[1;32mIn[23], line 1\u001b[0m\n\u001b[1;32m----> 1\u001b[0m train \u001b[38;5;241m=\u001b[39m pd\u001b[38;5;241m.\u001b[39mread_csv(\u001b[38;5;124m'\u001b[39m\u001b[38;5;124mtrain.csv\u001b[39m\u001b[38;5;124m'\u001b[39m)\n\u001b[0;32m      2\u001b[0m test \u001b[38;5;241m=\u001b[39m pd\u001b[38;5;241m.\u001b[39mread_csv(\u001b[38;5;124m'\u001b[39m\u001b[38;5;124mtest.csv\u001b[39m\u001b[38;5;124m'\u001b[39m)\n",
      "File \u001b[1;32m~\\anaconda3\\Lib\\site-packages\\pandas\\util\\_decorators.py:211\u001b[0m, in \u001b[0;36mdeprecate_kwarg.<locals>._deprecate_kwarg.<locals>.wrapper\u001b[1;34m(*args, **kwargs)\u001b[0m\n\u001b[0;32m    209\u001b[0m     \u001b[38;5;28;01melse\u001b[39;00m:\n\u001b[0;32m    210\u001b[0m         kwargs[new_arg_name] \u001b[38;5;241m=\u001b[39m new_arg_value\n\u001b[1;32m--> 211\u001b[0m \u001b[38;5;28;01mreturn\u001b[39;00m func(\u001b[38;5;241m*\u001b[39margs, \u001b[38;5;241m*\u001b[39m\u001b[38;5;241m*\u001b[39mkwargs)\n",
      "File \u001b[1;32m~\\anaconda3\\Lib\\site-packages\\pandas\\util\\_decorators.py:331\u001b[0m, in \u001b[0;36mdeprecate_nonkeyword_arguments.<locals>.decorate.<locals>.wrapper\u001b[1;34m(*args, **kwargs)\u001b[0m\n\u001b[0;32m    325\u001b[0m \u001b[38;5;28;01mif\u001b[39;00m \u001b[38;5;28mlen\u001b[39m(args) \u001b[38;5;241m>\u001b[39m num_allow_args:\n\u001b[0;32m    326\u001b[0m     warnings\u001b[38;5;241m.\u001b[39mwarn(\n\u001b[0;32m    327\u001b[0m         msg\u001b[38;5;241m.\u001b[39mformat(arguments\u001b[38;5;241m=\u001b[39m_format_argument_list(allow_args)),\n\u001b[0;32m    328\u001b[0m         \u001b[38;5;167;01mFutureWarning\u001b[39;00m,\n\u001b[0;32m    329\u001b[0m         stacklevel\u001b[38;5;241m=\u001b[39mfind_stack_level(),\n\u001b[0;32m    330\u001b[0m     )\n\u001b[1;32m--> 331\u001b[0m \u001b[38;5;28;01mreturn\u001b[39;00m func(\u001b[38;5;241m*\u001b[39margs, \u001b[38;5;241m*\u001b[39m\u001b[38;5;241m*\u001b[39mkwargs)\n",
      "File \u001b[1;32m~\\anaconda3\\Lib\\site-packages\\pandas\\io\\parsers\\readers.py:950\u001b[0m, in \u001b[0;36mread_csv\u001b[1;34m(filepath_or_buffer, sep, delimiter, header, names, index_col, usecols, squeeze, prefix, mangle_dupe_cols, dtype, engine, converters, true_values, false_values, skipinitialspace, skiprows, skipfooter, nrows, na_values, keep_default_na, na_filter, verbose, skip_blank_lines, parse_dates, infer_datetime_format, keep_date_col, date_parser, dayfirst, cache_dates, iterator, chunksize, compression, thousands, decimal, lineterminator, quotechar, quoting, doublequote, escapechar, comment, encoding, encoding_errors, dialect, error_bad_lines, warn_bad_lines, on_bad_lines, delim_whitespace, low_memory, memory_map, float_precision, storage_options)\u001b[0m\n\u001b[0;32m    935\u001b[0m kwds_defaults \u001b[38;5;241m=\u001b[39m _refine_defaults_read(\n\u001b[0;32m    936\u001b[0m     dialect,\n\u001b[0;32m    937\u001b[0m     delimiter,\n\u001b[1;32m   (...)\u001b[0m\n\u001b[0;32m    946\u001b[0m     defaults\u001b[38;5;241m=\u001b[39m{\u001b[38;5;124m\"\u001b[39m\u001b[38;5;124mdelimiter\u001b[39m\u001b[38;5;124m\"\u001b[39m: \u001b[38;5;124m\"\u001b[39m\u001b[38;5;124m,\u001b[39m\u001b[38;5;124m\"\u001b[39m},\n\u001b[0;32m    947\u001b[0m )\n\u001b[0;32m    948\u001b[0m kwds\u001b[38;5;241m.\u001b[39mupdate(kwds_defaults)\n\u001b[1;32m--> 950\u001b[0m \u001b[38;5;28;01mreturn\u001b[39;00m _read(filepath_or_buffer, kwds)\n",
      "File \u001b[1;32m~\\anaconda3\\Lib\\site-packages\\pandas\\io\\parsers\\readers.py:605\u001b[0m, in \u001b[0;36m_read\u001b[1;34m(filepath_or_buffer, kwds)\u001b[0m\n\u001b[0;32m    602\u001b[0m _validate_names(kwds\u001b[38;5;241m.\u001b[39mget(\u001b[38;5;124m\"\u001b[39m\u001b[38;5;124mnames\u001b[39m\u001b[38;5;124m\"\u001b[39m, \u001b[38;5;28;01mNone\u001b[39;00m))\n\u001b[0;32m    604\u001b[0m \u001b[38;5;66;03m# Create the parser.\u001b[39;00m\n\u001b[1;32m--> 605\u001b[0m parser \u001b[38;5;241m=\u001b[39m TextFileReader(filepath_or_buffer, \u001b[38;5;241m*\u001b[39m\u001b[38;5;241m*\u001b[39mkwds)\n\u001b[0;32m    607\u001b[0m \u001b[38;5;28;01mif\u001b[39;00m chunksize \u001b[38;5;129;01mor\u001b[39;00m iterator:\n\u001b[0;32m    608\u001b[0m     \u001b[38;5;28;01mreturn\u001b[39;00m parser\n",
      "File \u001b[1;32m~\\anaconda3\\Lib\\site-packages\\pandas\\io\\parsers\\readers.py:1442\u001b[0m, in \u001b[0;36mTextFileReader.__init__\u001b[1;34m(self, f, engine, **kwds)\u001b[0m\n\u001b[0;32m   1439\u001b[0m     \u001b[38;5;28mself\u001b[39m\u001b[38;5;241m.\u001b[39moptions[\u001b[38;5;124m\"\u001b[39m\u001b[38;5;124mhas_index_names\u001b[39m\u001b[38;5;124m\"\u001b[39m] \u001b[38;5;241m=\u001b[39m kwds[\u001b[38;5;124m\"\u001b[39m\u001b[38;5;124mhas_index_names\u001b[39m\u001b[38;5;124m\"\u001b[39m]\n\u001b[0;32m   1441\u001b[0m \u001b[38;5;28mself\u001b[39m\u001b[38;5;241m.\u001b[39mhandles: IOHandles \u001b[38;5;241m|\u001b[39m \u001b[38;5;28;01mNone\u001b[39;00m \u001b[38;5;241m=\u001b[39m \u001b[38;5;28;01mNone\u001b[39;00m\n\u001b[1;32m-> 1442\u001b[0m \u001b[38;5;28mself\u001b[39m\u001b[38;5;241m.\u001b[39m_engine \u001b[38;5;241m=\u001b[39m \u001b[38;5;28mself\u001b[39m\u001b[38;5;241m.\u001b[39m_make_engine(f, \u001b[38;5;28mself\u001b[39m\u001b[38;5;241m.\u001b[39mengine)\n",
      "File \u001b[1;32m~\\anaconda3\\Lib\\site-packages\\pandas\\io\\parsers\\readers.py:1735\u001b[0m, in \u001b[0;36mTextFileReader._make_engine\u001b[1;34m(self, f, engine)\u001b[0m\n\u001b[0;32m   1733\u001b[0m     \u001b[38;5;28;01mif\u001b[39;00m \u001b[38;5;124m\"\u001b[39m\u001b[38;5;124mb\u001b[39m\u001b[38;5;124m\"\u001b[39m \u001b[38;5;129;01mnot\u001b[39;00m \u001b[38;5;129;01min\u001b[39;00m mode:\n\u001b[0;32m   1734\u001b[0m         mode \u001b[38;5;241m+\u001b[39m\u001b[38;5;241m=\u001b[39m \u001b[38;5;124m\"\u001b[39m\u001b[38;5;124mb\u001b[39m\u001b[38;5;124m\"\u001b[39m\n\u001b[1;32m-> 1735\u001b[0m \u001b[38;5;28mself\u001b[39m\u001b[38;5;241m.\u001b[39mhandles \u001b[38;5;241m=\u001b[39m get_handle(\n\u001b[0;32m   1736\u001b[0m     f,\n\u001b[0;32m   1737\u001b[0m     mode,\n\u001b[0;32m   1738\u001b[0m     encoding\u001b[38;5;241m=\u001b[39m\u001b[38;5;28mself\u001b[39m\u001b[38;5;241m.\u001b[39moptions\u001b[38;5;241m.\u001b[39mget(\u001b[38;5;124m\"\u001b[39m\u001b[38;5;124mencoding\u001b[39m\u001b[38;5;124m\"\u001b[39m, \u001b[38;5;28;01mNone\u001b[39;00m),\n\u001b[0;32m   1739\u001b[0m     compression\u001b[38;5;241m=\u001b[39m\u001b[38;5;28mself\u001b[39m\u001b[38;5;241m.\u001b[39moptions\u001b[38;5;241m.\u001b[39mget(\u001b[38;5;124m\"\u001b[39m\u001b[38;5;124mcompression\u001b[39m\u001b[38;5;124m\"\u001b[39m, \u001b[38;5;28;01mNone\u001b[39;00m),\n\u001b[0;32m   1740\u001b[0m     memory_map\u001b[38;5;241m=\u001b[39m\u001b[38;5;28mself\u001b[39m\u001b[38;5;241m.\u001b[39moptions\u001b[38;5;241m.\u001b[39mget(\u001b[38;5;124m\"\u001b[39m\u001b[38;5;124mmemory_map\u001b[39m\u001b[38;5;124m\"\u001b[39m, \u001b[38;5;28;01mFalse\u001b[39;00m),\n\u001b[0;32m   1741\u001b[0m     is_text\u001b[38;5;241m=\u001b[39mis_text,\n\u001b[0;32m   1742\u001b[0m     errors\u001b[38;5;241m=\u001b[39m\u001b[38;5;28mself\u001b[39m\u001b[38;5;241m.\u001b[39moptions\u001b[38;5;241m.\u001b[39mget(\u001b[38;5;124m\"\u001b[39m\u001b[38;5;124mencoding_errors\u001b[39m\u001b[38;5;124m\"\u001b[39m, \u001b[38;5;124m\"\u001b[39m\u001b[38;5;124mstrict\u001b[39m\u001b[38;5;124m\"\u001b[39m),\n\u001b[0;32m   1743\u001b[0m     storage_options\u001b[38;5;241m=\u001b[39m\u001b[38;5;28mself\u001b[39m\u001b[38;5;241m.\u001b[39moptions\u001b[38;5;241m.\u001b[39mget(\u001b[38;5;124m\"\u001b[39m\u001b[38;5;124mstorage_options\u001b[39m\u001b[38;5;124m\"\u001b[39m, \u001b[38;5;28;01mNone\u001b[39;00m),\n\u001b[0;32m   1744\u001b[0m )\n\u001b[0;32m   1745\u001b[0m \u001b[38;5;28;01massert\u001b[39;00m \u001b[38;5;28mself\u001b[39m\u001b[38;5;241m.\u001b[39mhandles \u001b[38;5;129;01mis\u001b[39;00m \u001b[38;5;129;01mnot\u001b[39;00m \u001b[38;5;28;01mNone\u001b[39;00m\n\u001b[0;32m   1746\u001b[0m f \u001b[38;5;241m=\u001b[39m \u001b[38;5;28mself\u001b[39m\u001b[38;5;241m.\u001b[39mhandles\u001b[38;5;241m.\u001b[39mhandle\n",
      "File \u001b[1;32m~\\anaconda3\\Lib\\site-packages\\pandas\\io\\common.py:856\u001b[0m, in \u001b[0;36mget_handle\u001b[1;34m(path_or_buf, mode, encoding, compression, memory_map, is_text, errors, storage_options)\u001b[0m\n\u001b[0;32m    851\u001b[0m \u001b[38;5;28;01melif\u001b[39;00m \u001b[38;5;28misinstance\u001b[39m(handle, \u001b[38;5;28mstr\u001b[39m):\n\u001b[0;32m    852\u001b[0m     \u001b[38;5;66;03m# Check whether the filename is to be opened in binary mode.\u001b[39;00m\n\u001b[0;32m    853\u001b[0m     \u001b[38;5;66;03m# Binary mode does not support 'encoding' and 'newline'.\u001b[39;00m\n\u001b[0;32m    854\u001b[0m     \u001b[38;5;28;01mif\u001b[39;00m ioargs\u001b[38;5;241m.\u001b[39mencoding \u001b[38;5;129;01mand\u001b[39;00m \u001b[38;5;124m\"\u001b[39m\u001b[38;5;124mb\u001b[39m\u001b[38;5;124m\"\u001b[39m \u001b[38;5;129;01mnot\u001b[39;00m \u001b[38;5;129;01min\u001b[39;00m ioargs\u001b[38;5;241m.\u001b[39mmode:\n\u001b[0;32m    855\u001b[0m         \u001b[38;5;66;03m# Encoding\u001b[39;00m\n\u001b[1;32m--> 856\u001b[0m         handle \u001b[38;5;241m=\u001b[39m \u001b[38;5;28mopen\u001b[39m(\n\u001b[0;32m    857\u001b[0m             handle,\n\u001b[0;32m    858\u001b[0m             ioargs\u001b[38;5;241m.\u001b[39mmode,\n\u001b[0;32m    859\u001b[0m             encoding\u001b[38;5;241m=\u001b[39mioargs\u001b[38;5;241m.\u001b[39mencoding,\n\u001b[0;32m    860\u001b[0m             errors\u001b[38;5;241m=\u001b[39merrors,\n\u001b[0;32m    861\u001b[0m             newline\u001b[38;5;241m=\u001b[39m\u001b[38;5;124m\"\u001b[39m\u001b[38;5;124m\"\u001b[39m,\n\u001b[0;32m    862\u001b[0m         )\n\u001b[0;32m    863\u001b[0m     \u001b[38;5;28;01melse\u001b[39;00m:\n\u001b[0;32m    864\u001b[0m         \u001b[38;5;66;03m# Binary mode\u001b[39;00m\n\u001b[0;32m    865\u001b[0m         handle \u001b[38;5;241m=\u001b[39m \u001b[38;5;28mopen\u001b[39m(handle, ioargs\u001b[38;5;241m.\u001b[39mmode)\n",
      "\u001b[1;31mFileNotFoundError\u001b[0m: [Errno 2] No such file or directory: 'train.csv'"
     ]
    }
   ],
   "source": [
    "train = pd.read_csv('train.csv')\n",
    "test = pd.read_csv('test.csv')"
   ]
  },
  {
   "cell_type": "code",
   "execution_count": null,
   "id": "d882a8c6",
   "metadata": {},
   "outputs": [],
   "source": [
    "train.head()"
   ]
  },
  {
   "cell_type": "code",
   "execution_count": null,
   "id": "46b8c8dc",
   "metadata": {},
   "outputs": [],
   "source": [
    "# Combine the Dataset\n",
    "\n",
    "combined = pd.concat([train, test], ignore_index = True)"
   ]
  },
  {
   "cell_type": "code",
   "execution_count": null,
   "id": "c184622e",
   "metadata": {},
   "outputs": [],
   "source": [
    "train.shape, test.shape, combined.shape"
   ]
  },
  {
   "cell_type": "markdown",
   "id": "c3395455",
   "metadata": {},
   "source": [
    "### Univariate Analysis"
   ]
  },
  {
   "cell_type": "code",
   "execution_count": null,
   "id": "bbb06963",
   "metadata": {},
   "outputs": [],
   "source": [
    "# List of the Numerical Vars...\n",
    "\n",
    "#combined.select_dtypes(include = np.number).columns"
   ]
  },
  {
   "cell_type": "code",
   "execution_count": null,
   "id": "e2eba482",
   "metadata": {},
   "outputs": [],
   "source": [
    "num_cols = ['trip_distance', 'fare_amount', 'extra',\n",
    "       'mta_tax', 'tip_amount', 'tolls_amount', 'imp_surcharge',\n",
    "       'total_amount', 'trip_duration','calculated_total_amount']\n",
    "\n",
    "nrows = 5\n",
    "ncols =2\n",
    "iterator = 1\n",
    "\n",
    "plt.figure(figsize=(10, 7))\n",
    "for i in num_cols:\n",
    "    plt.subplot(nrows, ncols, iterator)\n",
    "    sns.distplot(combined.loc[:, i])\n",
    "    iterator = iterator+1\n",
    "\n",
    "plt.tight_layout()\n",
    "plt.show()"
   ]
  },
  {
   "cell_type": "code",
   "execution_count": null,
   "id": "c4e8151a",
   "metadata": {},
   "outputs": [],
   "source": [
    "cat_cols = ['store_and_fwd_flag', 'rate_code', \n",
    "            'payment_type', 'pickup_location_id', \n",
    "            'dropoff_location_id', 'year',\n",
    "            'month', 'day', 'day_of_week', 'hour_of_day']\n",
    "\n",
    "nrows = 5\n",
    "ncols =2\n",
    "iterator = 1\n",
    "\n",
    "plt.figure(figsize=(10, 7))\n",
    "for i in cat_cols:\n",
    "    plt.subplot(nrows, ncols, iterator)\n",
    "    sns.countplot(combined.loc[:, i])\n",
    "    iterator = iterator+1\n",
    "\n",
    "plt.tight_layout()\n",
    "plt.show()"
   ]
  },
  {
   "cell_type": "markdown",
   "id": "e7d0919f",
   "metadata": {},
   "source": [
    "### Bivariate Analysis\n",
    "\n",
    "* Num vs Target:: Scatterplot\n",
    "* Cat vs Target:: Boxplot"
   ]
  },
  {
   "cell_type": "code",
   "execution_count": null,
   "id": "43073e4f",
   "metadata": {},
   "outputs": [],
   "source": [
    "# Numerical Vars...\n",
    "nrows = 5\n",
    "ncols =2\n",
    "iterator = 1\n",
    "\n",
    "plt.figure(figsize=(10, 7))\n",
    "for i in num_cols:\n",
    "    plt.subplot(nrows, ncols, iterator)\n",
    "    sns.scatterplot(combined.loc[:, i], \n",
    "                    combined.calculated_total_amount, \n",
    "                   color = \"hotpink\")\n",
    "    iterator = iterator+1\n",
    "\n",
    "plt.tight_layout()\n",
    "plt.show()"
   ]
  },
  {
   "cell_type": "code",
   "execution_count": null,
   "id": "f78b2640",
   "metadata": {},
   "outputs": [],
   "source": [
    "sns.scatterplot(x = \"fare_amount\", y = \"calculated_total_amount\",\n",
    "               data = combined, hue = \"rate_code\")\n",
    "plt.show()"
   ]
  },
  {
   "cell_type": "code",
   "execution_count": null,
   "id": "94e260b7",
   "metadata": {},
   "outputs": [],
   "source": [
    "# Cat vs Number\n",
    "\n",
    "nrows = 5\n",
    "ncols =2\n",
    "iterator = 1\n",
    "\n",
    "plt.figure(figsize=(10, 7))\n",
    "for i in cat_cols:\n",
    "    plt.subplot(nrows, ncols, iterator)\n",
    "    sns.boxplot(combined.loc[:, i], \n",
    "                combined.calculated_total_amount)\n",
    "    iterator = iterator+1\n",
    "\n",
    "plt.tight_layout()\n",
    "plt.show()"
   ]
  },
  {
   "cell_type": "code",
   "execution_count": null,
   "id": "834b2ebf",
   "metadata": {},
   "outputs": [],
   "source": [
    "# Missing Values\n",
    "combined.isnull().sum()[combined.isnull().sum()!=0]"
   ]
  },
  {
   "cell_type": "code",
   "execution_count": null,
   "id": "6b6b522f",
   "metadata": {},
   "outputs": [],
   "source": [
    "sns.boxplot(combined.calculated_total_amount)"
   ]
  },
  {
   "cell_type": "markdown",
   "id": "10ec24c3",
   "metadata": {},
   "source": [
    "### Feature Engineering"
   ]
  },
  {
   "cell_type": "code",
   "execution_count": null,
   "id": "52d2f7e4",
   "metadata": {},
   "outputs": [],
   "source": [
    "combined.head()"
   ]
  },
  {
   "cell_type": "code",
   "execution_count": null,
   "id": "2bb337b6",
   "metadata": {},
   "outputs": [],
   "source": [
    "# Trip Duration in Hours\n",
    "combined[\"trip_duration\"] = combined[\"trip_duration\"]/3600"
   ]
  },
  {
   "cell_type": "code",
   "execution_count": null,
   "id": "995558ac",
   "metadata": {},
   "outputs": [],
   "source": [
    "# Pick Up and Drop Location\n",
    "combined.pickup_location_id.value_counts()[:5].index"
   ]
  },
  {
   "cell_type": "code",
   "execution_count": null,
   "id": "52d5114d",
   "metadata": {},
   "outputs": [],
   "source": [
    "localdf = pd.DataFrame(combined.pickup_location_id.astype(str)\\\n",
    "                       +\"_\"+combined.dropoff_location_id\\\n",
    "                       .astype(str), \n",
    "                       columns = [\"Loc\"])"
   ]
  },
  {
   "cell_type": "code",
   "execution_count": null,
   "id": "5ba19b71",
   "metadata": {},
   "outputs": [],
   "source": [
    "combined[\"pick_&_drop\"] = pd.DataFrame(combined.pickup_location_id.astype(str)\\\n",
    "                       +\"_\"+combined.dropoff_location_id\\\n",
    "                       .astype(str))"
   ]
  },
  {
   "cell_type": "code",
   "execution_count": null,
   "id": "ed609c1d",
   "metadata": {},
   "outputs": [],
   "source": [
    "localdf.groupby(\"Loc\")[\"tgt\"].describe()"
   ]
  },
  {
   "cell_type": "code",
   "execution_count": null,
   "id": "51da02e9",
   "metadata": {},
   "outputs": [],
   "source": [
    "combined[\"magic1\"] = combined.groupby(\"pick_&_drop\")\\\n",
    "[\"calculated_total_amount\"].transform(\"count\")\n",
    "\n",
    "combined[\"magic2\"] = combined.groupby(\"pick_&_drop\")\\\n",
    "[\"calculated_total_amount\"].transform(\"mean\")\n",
    "\n",
    "combined[\"magic3\"] = combined.groupby(\"pick_&_drop\")\\\n",
    "[\"calculated_total_amount\"].transform(\"median\")\n",
    "\n",
    "combined[\"magic4\"] = combined.groupby(\"pick_&_drop\")\\\n",
    "[\"calculated_total_amount\"].transform(\"min\")\n",
    "\n",
    "combined[\"magic5\"] = combined.groupby(\"pick_&_drop\")\\\n",
    "[\"calculated_total_amount\"].transform(\"max\")"
   ]
  },
  {
   "cell_type": "code",
   "execution_count": null,
   "id": "d0eefbf1",
   "metadata": {},
   "outputs": [],
   "source": [
    "pd.set_option(\"display.max_columns\", 50)\n",
    "combined.head()"
   ]
  },
  {
   "cell_type": "code",
   "execution_count": null,
   "id": "b8457576",
   "metadata": {},
   "outputs": [],
   "source": [
    "# Hour of the Day\n",
    "sns.boxplot(y=combined.hour_of_day, \n",
    "            x=combined.calculated_total_amount, orient = \"h\")\n",
    "\n",
    "# Busy Hours: 5,7,10,11,13,14,15,19,20,21,23"
   ]
  },
  {
   "cell_type": "code",
   "execution_count": null,
   "id": "c5096e7e",
   "metadata": {},
   "outputs": [],
   "source": [
    "# Busy Hour...\n",
    "busy = [0, 5,7,10,11,13,14,15,19,20,21,23]\n",
    "\n",
    "def imbusy(x):\n",
    "    if x in busy:\n",
    "        return(\"Peak_Hour\")\n",
    "    else:\n",
    "        return(\"Ease_Hour\")"
   ]
  },
  {
   "cell_type": "code",
   "execution_count": null,
   "id": "9377ccca",
   "metadata": {},
   "outputs": [],
   "source": [
    "combined[\"magic6\"] = combined.hour_of_day.apply(imbusy)"
   ]
  },
  {
   "cell_type": "code",
   "execution_count": null,
   "id": "7167ca8e",
   "metadata": {},
   "outputs": [],
   "source": [
    "sns.boxplot(combined.magic6, combined.calculated_total_amount)"
   ]
  },
  {
   "cell_type": "code",
   "execution_count": null,
   "id": "49e40b59",
   "metadata": {},
   "outputs": [],
   "source": [
    "zones = pd.read_csv(\"C:/Users/IT/Downloads/taxi+_zone_lookup.csv\")"
   ]
  },
  {
   "cell_type": "code",
   "execution_count": null,
   "id": "4c8881ca",
   "metadata": {},
   "outputs": [],
   "source": [
    "zones.head(1)"
   ]
  },
  {
   "cell_type": "code",
   "execution_count": null,
   "id": "faa1f55e",
   "metadata": {},
   "outputs": [],
   "source": [
    "pickup_zones = combined.pickup_location_id.unique()"
   ]
  },
  {
   "cell_type": "code",
   "execution_count": null,
   "id": "c94d226c",
   "metadata": {},
   "outputs": [],
   "source": [
    "for i in zones.LocationID:\n",
    "    if i in pickup_zones:\n",
    "        print(zones.Zone)\n",
    "    else:\n",
    "        print(\"No Zone\")"
   ]
  },
  {
   "cell_type": "code",
   "execution_count": null,
   "id": "e4b7bdc8",
   "metadata": {},
   "outputs": [],
   "source": [
    "combined.head()"
   ]
  },
  {
   "cell_type": "code",
   "execution_count": null,
   "id": "6380faec",
   "metadata": {},
   "outputs": [],
   "source": [
    "sns.boxplot(y = combined.day, \n",
    "            x = combined.calculated_total_amount, \n",
    "           orient = \"h\")\n",
    "plt.show()"
   ]
  },
  {
   "cell_type": "code",
   "execution_count": null,
   "id": "b857e610",
   "metadata": {},
   "outputs": [],
   "source": [
    "busy_days = [4, 5, 6, 8, 15, 16, 22, 24, 27]\n",
    "\n",
    "def busy(x):\n",
    "    if x in busy_days:\n",
    "        return(\"Busy_Days\")\n",
    "    else:\n",
    "        return(\"Lean_Days\")"
   ]
  },
  {
   "cell_type": "code",
   "execution_count": null,
   "id": "bfd1a4ff",
   "metadata": {},
   "outputs": [],
   "source": [
    "combined[\"magic7\"] = combined.day.apply(busy)"
   ]
  },
  {
   "cell_type": "code",
   "execution_count": null,
   "id": "d9c4bfa4",
   "metadata": {},
   "outputs": [],
   "source": [
    "sns.boxplot(combined.magic7, combined.calculated_total_amount)"
   ]
  },
  {
   "cell_type": "code",
   "execution_count": null,
   "id": "bc0b8c7b",
   "metadata": {},
   "outputs": [],
   "source": [
    "# Day wise avg Fare\n",
    "\n",
    "combined.groupby(\"day\")[\"calculated_total_amount\"].describe()\n",
    "\n",
    "combined[\"magic8\"] = combined.groupby(\"day\")\\\n",
    "[\"calculated_total_amount\"].transform(\"count\")\n",
    "\n",
    "combined[\"magic9\"] = combined.groupby(\"day\")\\\n",
    "[\"calculated_total_amount\"].transform(\"mean\")\n",
    "\n",
    "combined[\"magic10\"] = combined.groupby(\"day\")\\\n",
    "[\"calculated_total_amount\"].transform(\"median\")\n",
    "\n",
    "combined[\"magic11\"] = combined.groupby(\"day\")\\\n",
    "[\"calculated_total_amount\"].transform(\"min\")\n",
    "\n",
    "combined[\"magic12\"] = combined.groupby(\"day\")\\\n",
    "[\"calculated_total_amount\"].transform(\"max\")"
   ]
  },
  {
   "cell_type": "code",
   "execution_count": null,
   "id": "3f354989",
   "metadata": {},
   "outputs": [],
   "source": [
    "combined.groupby(\"month\")[\"calculated_total_amount\"].describe()\n",
    "\n",
    "combined[\"magic13\"] = combined.groupby(\"month\")\\\n",
    "[\"calculated_total_amount\"].transform(\"count\")\n",
    "\n",
    "combined[\"magic14\"] = combined.groupby(\"month\")\\\n",
    "[\"calculated_total_amount\"].transform(\"mean\")\n",
    "\n",
    "combined[\"magic15\"] = combined.groupby(\"month\")\\\n",
    "[\"calculated_total_amount\"].transform(\"median\")\n",
    "\n",
    "combined[\"magic16\"] = combined.groupby(\"month\")\\\n",
    "[\"calculated_total_amount\"].transform(\"min\")\n",
    "\n",
    "combined[\"magic17\"] = combined.groupby(\"month\")\\\n",
    "[\"calculated_total_amount\"].transform(\"max\")"
   ]
  },
  {
   "cell_type": "code",
   "execution_count": null,
   "id": "cc55080d",
   "metadata": {},
   "outputs": [],
   "source": [
    "combined.drop(['pickup_location_id', 'dropoff_location_id',\n",
    "              'year', 'month', 'day', \n",
    "              'hour_of_day', 'pick_&_drop'], axis = 1, \n",
    "             inplace = True)"
   ]
  },
  {
   "cell_type": "code",
   "execution_count": null,
   "id": "c2aef007",
   "metadata": {},
   "outputs": [],
   "source": [
    "combined[\"magic18\"] = combined[\"trip_distance\"]/combined['trip_duration']"
   ]
  },
  {
   "cell_type": "code",
   "execution_count": null,
   "id": "ddc423e1",
   "metadata": {},
   "outputs": [],
   "source": [
    "# Split the Data back in train and test\n",
    "newtrain = combined.loc[0:train.shape[0]-1, ]\n",
    "newtest = combined.loc[train.shape[0]:, ]"
   ]
  },
  {
   "cell_type": "code",
   "execution_count": null,
   "id": "525cf72e",
   "metadata": {},
   "outputs": [],
   "source": [
    "newtest.drop(\"calculated_total_amount\",axis =1, inplace = True)"
   ]
  },
  {
   "cell_type": "code",
   "execution_count": null,
   "id": "9e91083f",
   "metadata": {},
   "outputs": [],
   "source": [
    "# Apply Mgic 1 to 5\n",
    "\n",
    "newtrain.groupby(\"pick_&_drop\")\\\n",
    "[\"calculated_total_amount\"].describe()\n",
    "\n",
    "newtrain[\"magic1\"] = newtrain.groupby(\"pick_&_drop\")\\\n",
    "[\"calculated_total_amount\"].transform(\"count\")\n",
    "\n",
    "newtrain[\"magic2\"] = newtrain.groupby(\"pick_&_drop\")\\\n",
    "[\"calculated_total_amount\"].transform(\"mean\")\n",
    "\n",
    "newtrain[\"magic3\"] = newtrain.groupby(\"pick_&_drop\")\\\n",
    "[\"calculated_total_amount\"].transform(\"median\")\n",
    "\n",
    "newtrain[\"magic4\"] = newtrain.groupby(\"pick_&_drop\")\\\n",
    "[\"calculated_total_amount\"].transform(\"min\")\n",
    "\n",
    "newtrain[\"magic5\"] = newtrain.groupby(\"pick_&_drop\")\\\n",
    "[\"calculated_total_amount\"].transform(\"max\")"
   ]
  },
  {
   "cell_type": "code",
   "execution_count": null,
   "id": "f3b5df3c",
   "metadata": {},
   "outputs": [],
   "source": [
    "mapped = newtrain.groupby(\"pick_&_drop\")\\\n",
    "[\"calculated_total_amount\"].\\\n",
    "apply(lambda x:np.round(x.median(),2)).to_dict()"
   ]
  },
  {
   "cell_type": "code",
   "execution_count": null,
   "id": "c0ba00fd",
   "metadata": {},
   "outputs": [],
   "source": [
    "newtest[\"magic3\"] = newtest[\"pick_&_drop\"].map(mapped)"
   ]
  },
  {
   "cell_type": "code",
   "execution_count": null,
   "id": "13b50af1",
   "metadata": {},
   "outputs": [],
   "source": [
    "newtrain.columns"
   ]
  },
  {
   "cell_type": "code",
   "execution_count": null,
   "id": "0ca79fdc",
   "metadata": {},
   "outputs": [],
   "source": [
    "newtrain.drop(['pickup_location_id',\n",
    "       'dropoff_location_id', 'year', \n",
    "               'month', 'day', 'day_of_week',\n",
    "       'hour_of_day', 'magic1', 'magic2',\n",
    "               'magic3', 'magic4', 'magic5','pick_&_drop'], \n",
    "              axis = 1, inplace = True)\n",
    "\n",
    "\n",
    "newtest.drop(['pickup_location_id',\n",
    "       'dropoff_location_id', 'year', \n",
    "               'month', 'day', 'day_of_week',\n",
    "       'hour_of_day', 'magic1', 'magic2',\n",
    "               'magic3', 'pick_&_drop'], \n",
    "              axis = 1, inplace = True)"
   ]
  },
  {
   "cell_type": "markdown",
   "id": "7effc1d3",
   "metadata": {},
   "source": [
    "#### Statistical Testing"
   ]
  },
  {
   "cell_type": "code",
   "execution_count": null,
   "id": "9517caee",
   "metadata": {},
   "outputs": [],
   "source": [
    "num_cols = ['trip_distance','fare_amount','extra',\n",
    "            'mta_tax','tip_amount','tolls_amount',\n",
    "            'imp_surcharge','total_amount','trip_duration',\n",
    "            'magic8', 'magic9','magic10', 'magic11', \n",
    "            'magic12', 'magic13', 'magic14', 'magic15',\n",
    "            'magic16', 'magic17', 'magic18']"
   ]
  },
  {
   "cell_type": "code",
   "execution_count": null,
   "id": "285482b0",
   "metadata": {},
   "outputs": [],
   "source": [
    "import scipy.stats as stats\n",
    "\n",
    "imp_feats = []\n",
    "for i in num_cols:\n",
    "    teststats, pvalue = stats.ttest_ind(newtrain.loc[:, i],\n",
    "                                       newtrain.calculated_total_amount)\n",
    "    if pvalue<0.05:\n",
    "        imp_feats.append(i)"
   ]
  },
  {
   "cell_type": "code",
   "execution_count": null,
   "id": "fc3ad522",
   "metadata": {},
   "outputs": [],
   "source": [
    "# rate code and payment Type\n",
    "\n",
    "import statsmodels.formula.api as sfa\n",
    "\n",
    "from statsmodels.stats.anova import anova_lm\n",
    "\n",
    "model = sfa.ols(\"calculated_total_amount~payment_type\", \n",
    "                data = newtrain).fit()\n",
    "\n",
    "anova_lm(model)"
   ]
  },
  {
   "cell_type": "code",
   "execution_count": null,
   "id": "9acf68bf",
   "metadata": {},
   "outputs": [],
   "source": [
    "dummytrain= pd.get_dummies(newtrain, drop_first = True)\n",
    "dummytest= pd.get_dummies(newtest, drop_first = True)"
   ]
  },
  {
   "cell_type": "code",
   "execution_count": null,
   "id": "226575dc",
   "metadata": {},
   "outputs": [],
   "source": [
    "dummytrain.shape, dummytest.shape"
   ]
  },
  {
   "cell_type": "code",
   "execution_count": null,
   "id": "5c8ea9ca",
   "metadata": {},
   "outputs": [],
   "source": [
    "dummytrain.columns"
   ]
  },
  {
   "cell_type": "code",
   "execution_count": null,
   "id": "6dfaaec2",
   "metadata": {},
   "outputs": [],
   "source": [
    "# Magic14, total_amount and magic 9\n",
    "dummytrain.drop([\"total_amount\", \"magic14\", \"magic9\"], axis = 1,\n",
    "               inplace = True)\n",
    "\n",
    "dummytest.drop([\"total_amount\", \"magic14\", \"magic9\"], axis = 1,\n",
    "               inplace = True)"
   ]
  },
  {
   "cell_type": "markdown",
   "id": "179f0db2",
   "metadata": {},
   "source": [
    "### Model Building"
   ]
  },
  {
   "cell_type": "code",
   "execution_count": null,
   "id": "bc3d486b",
   "metadata": {},
   "outputs": [],
   "source": [
    "from sklearn.model_selection import KFold\n",
    "from sklearn.linear_model import LinearRegression\n",
    "from sklearn.ensemble import GradientBoostingRegressor\n",
    "\n",
    "kfold = KFold(n_splits= 5, shuffle = True, random_state = 42)\n",
    "\n",
    "X = dummytrain.drop(\"calculated_total_amount\", axis = 1)\n",
    "y = dummytrain.calculated_total_amount"
   ]
  },
  {
   "cell_type": "code",
   "execution_count": null,
   "id": "f64b00a6",
   "metadata": {},
   "outputs": [],
   "source": [
    "lr = LinearRegression()\n",
    "gbm = GradientBoostingRegressor()\n",
    "pred = []\n",
    "for train_index, test_index in kfold.split(X, y):\n",
    "    xtrain = X.iloc[train_index]\n",
    "    ytrain = y.iloc[train_index]\n",
    "    pred.append(gbm.fit(xtrain, ytrain).predict(dummytest)) "
   ]
  },
  {
   "cell_type": "code",
   "execution_count": null,
   "id": "42038b84",
   "metadata": {},
   "outputs": [],
   "source": [
    "# Linear Regression\n",
    "final = pd.DataFrame(pred).T.mean(axis = 1)\n"
   ]
  },
  {
   "cell_type": "code",
   "execution_count": null,
   "id": "52960ae6",
   "metadata": {},
   "outputs": [],
   "source": [
    "# GBM\n",
    "final_gbm = pd.DataFrame(pred).T.mean(axis = 1)"
   ]
  },
  {
   "cell_type": "code",
   "execution_count": null,
   "id": "dd7c8e67",
   "metadata": {},
   "outputs": [],
   "source": [
    "submission[\"calculated_total_amount\"] = final_gbm"
   ]
  },
  {
   "cell_type": "code",
   "execution_count": null,
   "id": "dd67279a",
   "metadata": {},
   "outputs": [],
   "source": [
    "submission.to_csv(\"GBM_Taxi.csv\", index=False) # 19.18"
   ]
  },
  {
   "cell_type": "code",
   "execution_count": null,
   "id": "a67d1801",
   "metadata": {},
   "outputs": [],
   "source": [
    "cd"
   ]
  },
  {
   "cell_type": "code",
   "execution_count": null,
   "id": "76278c6d",
   "metadata": {},
   "outputs": [],
   "source": []
  }
 ],
 "metadata": {
  "kernelspec": {
   "display_name": "Python 3 (ipykernel)",
   "language": "python",
   "name": "python3"
  },
  "language_info": {
   "codemirror_mode": {
    "name": "ipython",
    "version": 3
   },
   "file_extension": ".py",
   "mimetype": "text/x-python",
   "name": "python",
   "nbconvert_exporter": "python",
   "pygments_lexer": "ipython3",
   "version": "3.11.4"
  }
 },
 "nbformat": 4,
 "nbformat_minor": 5
}
